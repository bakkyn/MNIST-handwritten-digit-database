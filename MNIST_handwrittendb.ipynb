{
 "cells": [
  {
   "cell_type": "markdown",
   "metadata": {
    "id": "yVhVlgnuKp5Z"
   },
   "source": [
    "This assignment is suggested to complete on Google colab  (https://colab.research.google.com/) to benefit from its GPU support. "
   ]
  },
  {
   "cell_type": "markdown",
   "metadata": {
    "id": "F1Y3YguT4KeO"
   },
   "source": [
    "#### **Part 1: MLP**"
   ]
  },
  {
   "cell_type": "markdown",
   "metadata": {
    "id": "kp_Ra7Pc5Syx"
   },
   "source": [
    "Constructing and training a 3 layered neural network using Pytorch library for digit classification (MNIST)"
   ]
  },
  {
   "cell_type": "code",
   "execution_count": null,
   "metadata": {
    "collapsed": true,
    "id": "DPRYXLzZ5Zae",
    "jupyter": {
     "outputs_hidden": true
    }
   },
   "outputs": [],
   "source": [
    "# required libraries and modules\n",
    "import torch\n",
    "import torch.nn as nn\n",
    "import torchvision.datasets as datasets\n",
    "import torchvision.transforms as transforms\n",
    "from torch.autograd import Variable\n",
    "import torchvision.utils\n",
    "import time\n",
    "import copy\n",
    "import random\n",
    "from sklearn import metrics\n",
    "from sklearn import decomposition\n",
    "from sklearn import manifold\n",
    "\n",
    "\n",
    "# required libraries and modules\n",
    "import torch\n",
    "import torch.nn as nn\n",
    "import torch.nn.functional as F\n",
    "import torch.optim as optim\n",
    "import torch.utils.data as data\n",
    "import torchvision.datasets as datasets\n",
    "import torchvision.transforms as transforms\n",
    "from torch.autograd import Variable\n",
    "import torchvision.utils\n",
    "from sklearn import metrics\n",
    "from sklearn import decomposition\n",
    "from sklearn import manifold\n",
    "import matplotlib.pyplot as plt\n",
    "import numpy as np\n",
    "import copy\n",
    "import random\n",
    "import time"
   ]
  },
  {
   "cell_type": "code",
   "execution_count": null,
   "metadata": {
    "colab": {
     "base_uri": "https://localhost:8080/"
    },
    "collapsed": true,
    "id": "epSOPsQa5eez",
    "jupyter": {
     "outputs_hidden": true
    },
    "outputId": "c7201f24-40c8-42d2-fbba-54da061f572a"
   },
   "outputs": [
    {
     "data": {
      "text/plain": [
       "device(type='cuda', index=0)"
      ]
     },
     "execution_count": 104,
     "metadata": {
      "tags": []
     },
     "output_type": "execute_result"
    }
   ],
   "source": [
    "# set device\n",
    "device = torch.device('cuda:0' if torch.cuda.is_available() else 'cpu')\n",
    "device"
   ]
  },
  {
   "cell_type": "code",
   "execution_count": null,
   "metadata": {
    "collapsed": true,
    "id": "KjDBv0166pbP",
    "jupyter": {
     "outputs_hidden": true
    }
   },
   "outputs": [],
   "source": [
    "# download MNIST train and test sets using pytorch datasets module \r\n",
    "trans = transforms.ToTensor()\r\n",
    "\r\n",
    "train_data = datasets.MNIST(root = '.data',train = True, download = True, transform = trans)\r\n",
    "\r\n",
    "test_data = datasets.MNIST(root = '.data',train = False, download = True, transform = trans)"
   ]
  },
  {
   "cell_type": "code",
   "execution_count": null,
   "metadata": {
    "colab": {
     "base_uri": "https://localhost:8080/"
    },
    "id": "crKTQkP9UXUP",
    "outputId": "e78fa57e-b81b-49f1-f064-89f703412399"
   },
   "outputs": [
    {
     "data": {
      "text/plain": [
       "Dataset MNIST\n",
       "    Number of datapoints: 60000\n",
       "    Root location: .data\n",
       "    Split: Train\n",
       "    StandardTransform\n",
       "Transform: ToTensor()"
      ]
     },
     "execution_count": 109,
     "metadata": {
      "tags": []
     },
     "output_type": "execute_result"
    }
   ],
   "source": [
    "# lets look train_data structure\n",
    "train_data"
   ]
  },
  {
   "cell_type": "code",
   "execution_count": null,
   "metadata": {
    "collapsed": true,
    "id": "5MWQRfyVrVYy",
    "jupyter": {
     "outputs_hidden": true
    }
   },
   "outputs": [],
   "source": [
    "# define a display function for sample images using matplotlib\n",
    "def display_sampledata(img):\n",
    "    # convert to numpy array ((C)hannelx(H)eightx(W)idth -> HxWxC )\n",
    "    # plot image using matplotlib\n",
    "    # TO-DO\n",
    "    len_img = len(img)\n",
    "    rimg = int(np.sqrt(len_img))\n",
    "    cimg = int(np.sqrt(len_img))\n",
    "\n",
    "    fig = plt.figure()\n",
    "    size = rimg*cimg\n",
    "    for i in range(size):\n",
    "        ax = fig.add_subplot(rimg, cimg, i+1)\n",
    "        plot = img[i].view(28, 28).cpu()\n",
    "        ax.imshow(plot.numpy(), cmap = 'bone')\n",
    "        ax.axis('off')\n",
    "\n"
   ]
  },
  {
   "cell_type": "code",
   "execution_count": null,
   "metadata": {
    "collapsed": true,
    "id": "p028hbAFjgRd",
    "jupyter": {
     "outputs_hidden": true
    }
   },
   "outputs": [],
   "source": [
    "# define a function for displaying the number of parameters\n",
    "def get_netparams(net):\n",
    "  # to-do\n",
    "  count = (param.numel() for param in net.parameters() if param.requires_grad)\n",
    "  return sum(count)\n",
    "\n"
   ]
  },
  {
   "cell_type": "code",
   "execution_count": null,
   "metadata": {
    "collapsed": true,
    "id": "prD7NxbMj6UY",
    "jupyter": {
     "outputs_hidden": true
    }
   },
   "outputs": [],
   "source": [
    "# define a function that returns minibatch error in range [0,1]\n",
    "def get_error(predicted_y, y):\n",
    "    # to-do \n",
    "    # err =\n",
    "    err = []     \n",
    "    data = np.hstack((predicted_y, y)) \n",
    "    np.random.shuffle(data) \n",
    "\n",
    "    batch=100\n",
    "    len_minib = data.shape[0] \n",
    "   \n",
    "  \n",
    "    for i in range(len_minib + 1): \n",
    "        minibatch = data[i * batch:(i + 1)*batch, :] \n",
    "        predminib = minibatch[:, :-1] \n",
    "        minibatch = minibatch[:, -1].reshape((-1, 1)) \n",
    "        Y_minib = minibatch\n",
    "        err.append((pred_mini, Y_minib)) \n",
    "\n",
    "    check = data.shape[0] % batch\n",
    "    if check != 0: \n",
    "        minibatch = data[i * batch:data.shape[0]] \n",
    "        predminib = minibatch[:, :-1] \n",
    "        minibatch = minibatch[:, -1].reshape((-1, 1)) \n",
    "        Y_minib = minibatch\n",
    "        err.append((pred_mini, Y_minib)) \n",
    "    \n",
    "    return err\n"
   ]
  },
  {
   "cell_type": "code",
   "execution_count": null,
   "metadata": {
    "colab": {
     "base_uri": "https://localhost:8080/"
    },
    "id": "dN8D2i0uA2PV",
    "outputId": "91d3f179-e96f-452d-a931-f29e081119e2"
   },
   "outputs": [
    {
     "name": "stdout",
     "output_type": "stream",
     "text": [
      "train: 48600\n",
      "validation: 5400\n",
      "test: 10000\n"
     ]
    }
   ],
   "source": [
    "v_ratio = 0.9 # validation set taking 90% of the training set\r\n",
    "\r\n",
    "len_train = int(len(train_data) * v_ratio)\r\n",
    "len_valid = len(train_data) - len_train\r\n",
    "train_data, valid_data = data.random_split(train_data, [len_train, len_valid])\r\n",
    "print('train:',len(train_data))\r\n",
    "print('validation:' ,len(valid_data))\r\n",
    "print('test:', len(test_data))\r\n"
   ]
  },
  {
   "cell_type": "code",
   "execution_count": null,
   "metadata": {
    "collapsed": true,
    "id": "cHs4gfWI65d5",
    "jupyter": {
     "outputs_hidden": true
    }
   },
   "outputs": [],
   "source": [
    "\n",
    "valid_data = copy.deepcopy(valid_data)\n",
    "valid_data.dataset.transform = trans\n",
    "\n",
    "# define train and test data loaders\n",
    "batch_size = 100\n",
    "train_loader = torch.utils.data.DataLoader(train_data, \n",
    "                                 shuffle = True, \n",
    "                                 batch_size = batch_size)\n",
    "test_loader = torch.utils.data.DataLoader(test_data, \n",
    "                                 shuffle = True, \n",
    "                                 batch_size = batch_size)\n",
    "valid_loader = torch.utils.data.DataLoader(valid_data, \n",
    "                                 shuffle = True, \n",
    "                                 batch_size = batch_size)\n"
   ]
  },
  {
   "cell_type": "code",
   "execution_count": null,
   "metadata": {
    "colab": {
     "base_uri": "https://localhost:8080/",
     "height": 248
    },
    "collapsed": true,
    "id": "rZ5qVNoHq6s0",
    "jupyter": {
     "outputs_hidden": true
    },
    "outputId": "a605df40-914b-427b-953d-b3bb4deed5b7"
   },
   "outputs": [
    {
     "data": {
      "image/png": "[encoded data removed]",
      "text/plain": [
       "<Figure size 432x288 with 16 Axes>"
      ]
     },
     "metadata": {
      "needs_background": "light",
      "tags": []
     },
     "output_type": "display_data"
    }
   ],
   "source": [
    "# get some random 16 images\n",
    "# to-do\n",
    "len_img = 16\n",
    "images = [image for image, label in [valid_data[i] for i in range(len_img)]] \n",
    "\n",
    "# show using your display_sampledata function\n",
    "# to-do\n",
    "display_sampledata(images)\n"
   ]
  },
  {
   "cell_type": "code",
   "execution_count": null,
   "metadata": {
    "collapsed": true,
    "id": "36zK7A519FeM",
    "jupyter": {
     "outputs_hidden": true
    }
   },
   "outputs": [],
   "source": [
    "# Design a 3 layered  MLP network\n",
    "class basicMLP(nn.Module):\n",
    "  def __init__(self, input_size, num_hidden_neurons1,num_hidden_neurons2, num_classes):\n",
    "    super(basicMLP,self).__init__()\n",
    "    # define layers\n",
    "    # to-do\n",
    "    self.input_fc = nn.Linear(input_size, num_hidden_neurons1)\n",
    "    self.hidden_fc = nn.Linear(num_hidden_neurons1, num_hidden_neurons2)\n",
    "    self.output_fc = nn.Linear(num_hidden_neurons2, num_classes)\n",
    "  \n",
    "  def forward(self,input):    \n",
    "    # define forward pass of your NN \n",
    "    # TO-DO\n",
    "    batch_size = input.shape[0]\n",
    "    input = input.view(batch_size, -1)\n",
    "    h_1 = F.relu(self.input_fc(input))\n",
    "    h_2 = F.relu(self.hidden_fc(h_1))\n",
    "    y_pred = self.output_fc(h_2)\n",
    "    return y_pred, h_2"
   ]
  },
  {
   "cell_type": "code",
   "execution_count": null,
   "metadata": {
    "colab": {
     "base_uri": "https://localhost:8080/"
    },
    "id": "DjRvtrT897RD",
    "outputId": "b45d943b-dc05-4ec6-a854-5805e8b78c00"
   },
   "outputs": [
    {
     "name": "stdout",
     "output_type": "stream",
     "text": [
      "basicMLP(\n",
      "  (input_fc): Linear(in_features=784, out_features=200, bias=True)\n",
      "  (hidden_fc): Linear(in_features=200, out_features=300, bias=True)\n",
      "  (output_fc): Linear(in_features=300, out_features=10, bias=True)\n",
      ")\n"
     ]
    },
    {
     "data": {
      "text/plain": [
       "220310"
      ]
     },
     "execution_count": 127,
     "metadata": {
      "tags": []
     },
     "output_type": "execute_result"
    }
   ],
   "source": [
    "# create a 3 layered Neural Network instance for given parameters\n",
    "# input size = image size * image size (get from your data shape)\n",
    "# number of hidden neurons: 200 and 300\n",
    "# number of classes: get from your data \n",
    "\n",
    "net = basicMLP(28*28,200,300,10)\n",
    "print(net)\n",
    "\n",
    "get_netparams(net)"
   ]
  },
  {
   "cell_type": "code",
   "execution_count": null,
   "metadata": {
    "collapsed": true,
    "id": "Rsl2kuF7-Yxf",
    "jupyter": {
     "outputs_hidden": true
    }
   },
   "outputs": [],
   "source": [
    "# define cross entropy as loss function\n",
    "# to-do\n",
    "criterion = nn.CrossEntropyLoss()\n",
    "# setup the SGD optimizer with learning rate=1.e-2  (also try Adam optimizer later)\n",
    "# to-do\n",
    "optimizerSGD = torch.optim.SGD(net.parameters(),lr = 1.e-2 )\n",
    "net = net.to(device)\n",
    "criterion = criterion.to(device)\n",
    "optimizer = optim.Adam(net.parameters())\n"
   ]
  },
  {
   "cell_type": "code",
   "execution_count": null,
   "metadata": {
    "id": "nz0Mf_jXXa27"
   },
   "outputs": [],
   "source": [
    "def calculate_accuracy(y_pred, y):\r\n",
    "    top_pred = y_pred.argmax(1, keepdim = True)\r\n",
    "    correct = top_pred.eq(y.view_as(top_pred)).sum()\r\n",
    "    acc = correct.float() / y.shape[0]\r\n",
    "    return acc"
   ]
  },
  {
   "cell_type": "code",
   "execution_count": null,
   "metadata": {
    "colab": {
     "base_uri": "https://localhost:8080/"
    },
    "id": "a-3e_Grj-5Hy",
    "outputId": "8d287918-a13e-422a-cbf9-0b468592e362"
   },
   "outputs": [
    {
     "name": "stdout",
     "output_type": "stream",
     "text": [
      "Epoch: 01 | Epoch Time: 11m 53s\n",
      "\tTrain Loss: 0.004 | Train Err: 0.001399183346901367%\n",
      "Accuracy= 99.86008166530986\n",
      "\t Val. Loss: 0.105 |  Val. Acc: 97.96%\n",
      "Epoch: 02 | Epoch Time: 11m 58s\n",
      "\tTrain Loss: 0.011 | Train Err: 0.0036008370266039647%\n",
      "Accuracy= 99.63991629733961\n",
      "\t Val. Loss: 0.130 |  Val. Acc: 97.54%\n",
      "Epoch: 03 | Epoch Time: 12m 2s\n",
      "\tTrain Loss: 0.010 | Train Err: 0.0030658566412121724%\n",
      "Accuracy= 99.69341433587878\n",
      "\t Val. Loss: 0.126 |  Val. Acc: 97.81%\n",
      "Epoch: 04 | Epoch Time: 12m 7s\n",
      "\tTrain Loss: 0.005 | Train Err: 0.0016872506328080572%\n",
      "Accuracy= 99.8312749367192\n",
      "\t Val. Loss: 0.116 |  Val. Acc: 97.98%\n",
      "Epoch: 05 | Epoch Time: 12m 11s\n",
      "\tTrain Loss: 0.008 | Train Err: 0.0024074176211416054%\n",
      "Accuracy= 99.75925823788585\n",
      "\t Val. Loss: 0.124 |  Val. Acc: 97.91%\n"
     ]
    }
   ],
   "source": [
    "def epoch_time(start_time, end_time):\n",
    "    elapsed_time = end_time - start_time\n",
    "    elapsed_mins = int(elapsed_time / 60)\n",
    "    elapsed_secs = int(elapsed_time - (elapsed_mins * 60))\n",
    "    return elapsed_mins, elapsed_secs\n",
    "# Train your model over 5 epochs (you can also try longer training)\n",
    "n_epochs = 5\n",
    "best_valid_loss = float('inf')\n",
    "for epoch in range(n_epochs):\n",
    "    \n",
    "    epoch_loss = 0\n",
    "    epoch_acc = 0\n",
    "    \n",
    "    net.train()\n",
    "    \n",
    "    for (x, y) in (train_loader):\n",
    "        \n",
    "        x = x.to(device)\n",
    "        y = y.to(device)\n",
    "        \n",
    "        optimizer.zero_grad()\n",
    "                \n",
    "        y_pred, _ = net(x)\n",
    "        \n",
    "        loss = criterion(y_pred, y)\n",
    "        \n",
    "        acc = calculate_accuracy(y_pred, y)\n",
    "        \n",
    "        loss.backward()\n",
    "        \n",
    "        optimizer.step()\n",
    "        \n",
    "        epoch_loss += loss.item()\n",
    "        epoch_acc += acc.item()\n",
    "        \n",
    "        train_loss = epoch_loss / len(train_loader)\n",
    "        train_acc =  epoch_acc / len(train_loader)\n",
    "\n",
    "    epoch_loss = 0\n",
    "    epoch_acc = 0\n",
    "    \n",
    "    net.eval()\n",
    "    \n",
    "    with torch.no_grad():\n",
    "        \n",
    "        for (images, labels) in valid_loader:\n",
    "\n",
    "            images = images.to(device)\n",
    "            labels = labels.to(device)\n",
    "\n",
    "            y_pred, _ = net(images)\n",
    "\n",
    "            loss = criterion(y_pred, labels)\n",
    "\n",
    "            acc = calculate_accuracy(y_pred, labels)\n",
    "\n",
    "            epoch_loss += loss.item()\n",
    "            epoch_acc += acc.item()\n",
    "        \n",
    "    valid_loss = epoch_loss / len(valid_loader)\n",
    "    valid_acc = epoch_acc / len(valid_loader)\n",
    "\n",
    "    if valid_loss < best_valid_loss:\n",
    "\n",
    "      best_valid_loss = valid_loss\n",
    "      torch.save(net.state_dict(), 'model.pt')\n",
    "\n",
    " \n",
    "\n",
    "    end_time = time.monotonic()\n",
    "\n",
    "    epoch_mins, epoch_secs = epoch_time(start, end_time)\n",
    "      \n",
    "    print(f'Epoch: {epoch+1:02} | Epoch Time: {epoch_mins}m {epoch_secs}s')\n",
    "    print(f'\\tTrain Loss: {train_loss:.3f} | Train Err: {(1-train_acc)}%')\n",
    "    print('Accuracy=',train_acc*100)\n",
    "    print(f'\\t Val. Loss: {valid_loss:.3f} |  Val. Acc: {valid_acc*100:.2f}%')\n",
    "    \n",
    "\n",
    "\n"
   ]
  },
  {
   "cell_type": "code",
   "execution_count": null,
   "metadata": {
    "colab": {
     "base_uri": "https://localhost:8080/",
     "height": 544
    },
    "collapsed": true,
    "id": "0RPFgMqW4g-P",
    "jupyter": {
     "outputs_hidden": true
    },
    "outputId": "e16e571a-6fec-4b71-8693-70134b0d11cd"
   },
   "outputs": [
    {
     "data": {
      "image/png": "[encoded data removed]",
      "text/plain": [
       "<Figure size 432x288 with 1 Axes>"
      ]
     },
     "metadata": {
      "needs_background": "light",
      "tags": []
     },
     "output_type": "display_data"
    },
    {
     "data": {
      "image/png": "[encoded data removed]",
      "text/plain": [
       "<Figure size 432x288 with 1 Axes>"
      ]
     },
     "metadata": {
      "needs_background": "light",
      "tags": []
     },
     "output_type": "display_data"
    }
   ],
   "source": [
    "#display training loss versus iterations plot\n",
    "# to-do\n",
    "size=[1,2,3,4,5]\n",
    "loss=[0.004,0.011 ,0.010,0.005 ,0.008]\n",
    "plt.plot(size,loss,'b-o',label='loss');\n",
    "plt.xlabel('Iterations')\n",
    "plt.ylabel('Loss')\n",
    "plt.legend()\n",
    "plt.show()\n",
    "\n",
    "\n",
    "# display training accuracy versus iterations plot\n",
    "# to-do\n",
    "size=[1,2,3,4,5]\n",
    "acc=[97.96,97.54,97.81,97.98,97.91]\n",
    "plt.plot(size,acc,'b-o',label='Accuracy');\n",
    "plt.xlabel('Iterations')\n",
    "plt.ylabel('Accuracy')\n",
    "plt.legend()\n",
    "plt.show()"
   ]
  },
  {
   "cell_type": "code",
   "execution_count": null,
   "metadata": {
    "colab": {
     "base_uri": "https://localhost:8080/"
    },
    "id": "nFfYJU02_ARm",
    "outputId": "9a4030b4-1f15-4eb1-a73d-b59d595dac8b"
   },
   "outputs": [
    {
     "name": "stdout",
     "output_type": "stream",
     "text": [
      "Test error on test set: 0.021700032949447667%\n"
     ]
    }
   ],
   "source": [
    "#evaluate your NN model on test data\n",
    "# variables for total test error\n",
    "epoch_loss = 0\n",
    "epoch_acc = 0\n",
    "    \n",
    "net.eval()\n",
    "  \n",
    "with torch.no_grad():\n",
    "    \n",
    "    for (images, labels) in test_loader:\n",
    "\n",
    "        images = images.to(device)\n",
    "        labels = labels.to(device)\n",
    "\n",
    "        y_pred, _ = net(images)\n",
    "\n",
    "        loss = criterion(y_pred, labels)\n",
    "\n",
    "        acc = calculate_accuracy(y_pred, labels)\n",
    "\n",
    "        epoch_loss += loss.item()\n",
    "        epoch_acc += acc.item()\n",
    "    \n",
    "test_loss = epoch_loss / len(test_loader) \n",
    "test_acc = epoch_acc / len(test_loader)\n",
    "# compute test error and print it\n",
    "print(f'Test error on test set: {1-test_acc}%')\n"
   ]
  },
  {
   "cell_type": "code",
   "execution_count": null,
   "metadata": {
    "id": "8klovfEQeu_e"
   },
   "outputs": [],
   "source": [
    "def get_predictions(model, iterator, device):\r\n",
    "\r\n",
    "    model.eval()\r\n",
    "\r\n",
    "    images = []\r\n",
    "    labels = []\r\n",
    "    probs = []\r\n",
    "\r\n",
    "    with torch.no_grad():\r\n",
    "\r\n",
    "        for (x, y) in iterator:\r\n",
    "\r\n",
    "            x = x.to(device)\r\n",
    "\r\n",
    "            y_pred, _ = model(x)\r\n",
    "\r\n",
    "            y_prob = F.softmax(y_pred, dim = -1)\r\n",
    "            top_pred = y_prob.argmax(1, keepdim = True)\r\n",
    "\r\n",
    "            images.append(x.cpu())\r\n",
    "            labels.append(y.cpu())\r\n",
    "            probs.append(y_prob.cpu())\r\n",
    "\r\n",
    "    images = torch.cat(images, dim = 0)\r\n",
    "    labels = torch.cat(labels, dim = 0)\r\n",
    "    probs = torch.cat(probs, dim = 0)\r\n",
    "\r\n",
    "    return images, labels, probs"
   ]
  },
  {
   "cell_type": "code",
   "execution_count": null,
   "metadata": {
    "id": "kZCKgh9FexZ0"
   },
   "outputs": [],
   "source": [
    "images, labels, probs = get_predictions(net, test_loader, device)\r\n",
    "\r\n",
    "pred_labels = torch.argmax(probs, 1)\r\n",
    "corrects = torch.eq(labels, pred_labels)"
   ]
  },
  {
   "cell_type": "code",
   "execution_count": null,
   "metadata": {
    "id": "8EJGxIrieiXk"
   },
   "outputs": [],
   "source": [
    "incorrect_examples = []\r\n",
    "for image, label, prob, correct in zip(images, labels, probs, corrects):\r\n",
    "    if not correct:\r\n",
    "        incorrect_examples.append((image, label, prob))\r\n",
    "\r\n",
    "incorrect_examples.sort(reverse = True, key = lambda x: torch.max(x[2], dim = 0).values)\r\n"
   ]
  },
  {
   "cell_type": "code",
   "execution_count": null,
   "metadata": {
    "colab": {
     "base_uri": "https://localhost:8080/",
     "height": 606
    },
    "id": "yaOfWq1S3Ffl",
    "outputId": "d7d21ff0-fd7d-4f93-ddd8-97349734207f"
   },
   "outputs": [
    {
     "data": {
      "image/png": "[encoded data removed]",
      "text/plain": [
       "<Figure size 720x720 with 4 Axes>"
      ]
     },
     "metadata": {
      "needs_background": "light",
      "tags": []
     },
     "output_type": "display_data"
    }
   ],
   "source": [
    "# display 8 incorrect classified test samples with predicted labels using your display_sampledata function \n",
    "# to-do\n",
    "n_images = 8\n",
    "rows = int(np.sqrt(n_images))\n",
    "cols = int(np.sqrt(n_images))\n",
    "\n",
    "fig = plt.figure(figsize = (10, 10))\n",
    "for i in range(rows*cols):\n",
    "    ax = fig.add_subplot(rows, cols, i+1)\n",
    "    image, true_label, probs = incorrect_examples[i]\n",
    "    true_prob = probs[true_label]\n",
    "    incorrect_prob, incorrect_label = torch.max(probs, dim = 0)\n",
    "    ax.imshow(image.view(28, 28).cpu().numpy(), cmap='bone')\n",
    "    ax.set_title(f'true label: {true_label} ({true_prob:.3f})\\n' \\\n",
    "                  f'pred label: {incorrect_label} ({incorrect_prob:.3f})')\n",
    "    ax.axis('off')\n",
    "fig.subplots_adjust(hspace= 0.5)\n",
    "\n",
    "\n",
    "\n"
   ]
  }
 ],
 "metadata": {
  "accelerator": "GPU",
  "colab": {
   "collapsed_sections": [],
   "name": "hw4.ipynb",
   "provenance": []
  },
  "kernelspec": {
   "display_name": "Python 3",
   "language": "python",
   "name": "python3"
  },
  "language_info": {
   "codemirror_mode": {
    "name": "ipython",
    "version": 3
   },
   "file_extension": ".py",
   "mimetype": "text/x-python",
   "name": "python",
   "nbconvert_exporter": "python",
   "pygments_lexer": "ipython3",
   "version": "3.8.5"
  }
 },
 "nbformat": 4,
 "nbformat_minor": 4
}
